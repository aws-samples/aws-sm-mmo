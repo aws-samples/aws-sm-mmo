{
 "cells": [
  {
   "cell_type": "code",
   "execution_count": null,
   "metadata": {},
   "outputs": [],
   "source": [
    "! pip install --upgrade boto3 sagemaker"
   ]
  },
  {
   "cell_type": "markdown",
   "metadata": {},
   "source": []
  },
  {
   "cell_type": "code",
   "execution_count": null,
   "metadata": {},
   "outputs": [],
   "source": [
    "\n",
    "# Define IAM role\n",
    "import boto3\n",
    "import re\n",
    "import requests\n",
    "import base64\n",
    "import json\n",
    "import os\n",
    "import numpy as np\n",
    "import pandas as pd\n",
    "from sagemaker import get_execution_role\n",
    "import cv2\n",
    "import base64\n",
    "\n",
    "role = get_execution_role()\n",
    "print(role)"
   ]
  },
  {
   "cell_type": "code",
   "execution_count": null,
   "metadata": {},
   "outputs": [],
   "source": [
    "import sagemaker as sage\n",
    "from time import gmtime, strftime\n",
    "\n",
    "sess = sage.Session()"
   ]
  },
  {
   "cell_type": "code",
   "execution_count": null,
   "metadata": {},
   "outputs": [],
   "source": [
    "account = sess.boto_session.client('sts').get_caller_identity()['Account']\n",
    "region = sess.boto_session.region_name\n",
    "image = '{}.dkr.ecr.{}.amazonaws.com/inference/mytriton:latest'.format(account, region)\n",
    "print(image)\n"
   ]
  },
  {
   "cell_type": "code",
   "execution_count": null,
   "metadata": {},
   "outputs": [],
   "source": [
    "#for triron\n",
    "container = {\n",
    "    \"Image\": image,\n",
    "    \"Environment\": {\"SAGEMAKER_TRITON_DEFAULT_MODEL_NAME\": \"resnet\"},\n",
    "}\n",
    "\n",
    "model = sess.create_model(\n",
    "    name='mytriton', role=role, container_defs=container\n",
    ")\n",
    "print(model)"
   ]
  },
  {
   "cell_type": "code",
   "execution_count": null,
   "metadata": {},
   "outputs": [],
   "source": [
    "endpoint_cfg=sess.create_endpoint_config(\n",
    "        name=\"MYTRITONCFG\",\n",
    "        model_name=\"mytriton\",\n",
    "        initial_instance_count=1,\n",
    "        instance_type=\"ml.g4dn.2xlarge\"\n",
    "    )"
   ]
  },
  {
   "cell_type": "code",
   "execution_count": null,
   "metadata": {},
   "outputs": [],
   "source": [
    "endpoint=sess.create_endpoint(\n",
    "        endpoint_name=\"MyTritonEndpoint\", config_name=\"MYTRITONCFG\")\n",
    "print(endpoint)"
   ]
  },
  {
   "cell_type": "code",
   "execution_count": null,
   "metadata": {},
   "outputs": [],
   "source": [
    "from IPython.display import Image\n",
    "Image(url= \"dog.jpg\",width=100, height=100)"
   ]
  },
  {
   "cell_type": "code",
   "execution_count": null,
   "metadata": {},
   "outputs": [],
   "source": [
    "img = cv2.imread('dog.jpg')\n",
    "string_img = base64.b64encode(cv2.imencode('.jpg', img)[1]).decode()"
   ]
  },
  {
   "cell_type": "code",
   "execution_count": null,
   "metadata": {},
   "outputs": [],
   "source": [
    "## restnet client\n",
    "runtime = boto3.Session().client('runtime.sagemaker')\n",
    "\n",
    "payload = json.dumps({\"modelname\": \"resnet\",\"payload\": {\"img\":string_img}})\n",
    "\n",
    "endpoint=\"MyTritonEndpoint\"\n",
    "response = runtime.invoke_endpoint(EndpointName=endpoint,ContentType=\"application/json\",Body=payload,Accept='application/json')\n",
    "\n",
    "out=response['Body'].read()\n"
   ]
  },
  {
   "cell_type": "code",
   "execution_count": null,
   "metadata": {},
   "outputs": [],
   "source": [
    "res=eval(out)\n",
    "print(res)"
   ]
  },
  {
   "cell_type": "code",
   "execution_count": null,
   "metadata": {},
   "outputs": [],
   "source": [
    "# yolov5 client\n",
    "payload = json.dumps({\"modelname\": \"yolov5\",\"payload\": {\"img\":string_img}})\n",
    "\n",
    "endpoint=\"MyTritonEndpoint\"\n",
    "response = runtime.invoke_endpoint(EndpointName=endpoint,ContentType=\"application/json\",Body=payload,Accept='application/json')\n",
    "\n",
    "out=response['Body'].read()\n"
   ]
  },
  {
   "cell_type": "code",
   "execution_count": null,
   "metadata": {
    "scrolled": true
   },
   "outputs": [],
   "source": [
    "res=eval(out)\n",
    "print(str(out))"
   ]
  },
  {
   "cell_type": "code",
   "execution_count": null,
   "metadata": {},
   "outputs": [],
   "source": [
    "# bert client\n",
    "text=\"The capital of China is [MASK].\"\n",
    "text=\"The biggest city of China is [MASK].\"\n",
    "text=\"The world has [MASK] people.\"\n",
    "\n",
    "payload = json.dumps({\"modelname\": \"bert_base\",\"payload\": {\"text\":text}})\n",
    "\n",
    "endpoint=\"MyTritonEndpoint\"\n",
    "response = runtime.invoke_endpoint(EndpointName=endpoint,ContentType=\"application/json\",Body=payload,Accept='application/json')\n",
    "\n",
    "out=response['Body'].read()\n",
    "res=eval(out)\n",
    "print(res)"
   ]
  },
  {
   "cell_type": "code",
   "execution_count": null,
   "metadata": {},
   "outputs": [],
   "source": [
    "#Delete the endpoint\n",
    "boto3.client('sagemaker').delete_endpoint(EndpointName=endpoint)"
   ]
  }
 ],
 "metadata": {
  "kernelspec": {
   "display_name": "conda_python3",
   "language": "python",
   "name": "conda_python3"
  },
  "language_info": {
   "codemirror_mode": {
    "name": "ipython",
    "version": 3
   },
   "file_extension": ".py",
   "mimetype": "text/x-python",
   "name": "python",
   "nbconvert_exporter": "python",
   "pygments_lexer": "ipython3",
   "version": "3.6.13"
  }
 },
 "nbformat": 4,
 "nbformat_minor": 2
}
